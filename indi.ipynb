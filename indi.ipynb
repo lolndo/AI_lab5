{
 "cells": [
  {
   "cell_type": "code",
   "execution_count": 6,
   "id": "e316094d-64d2-4c9f-971c-6bd8d776f423",
   "metadata": {},
   "outputs": [],
   "source": [
    "import pandas as pd\n",
    "from IPython.display import display"
   ]
  },
  {
   "cell_type": "code",
   "execution_count": 40,
   "id": "6630b726-3adf-431c-80d5-509872e41b51",
   "metadata": {
    "collapsed": true,
    "jupyter": {
     "outputs_hidden": true,
     "source_hidden": true
    }
   },
   "outputs": [
    {
     "name": "stdout",
     "output_type": "stream",
     "text": [
      "Requirement already satisfied: pandas in c:\\users\\aleks\\anaconda3\\lib\\site-packages (2.2.2)\n",
      "Requirement already satisfied: black in c:\\users\\aleks\\anaconda3\\lib\\site-packages (24.8.0)\n",
      "Requirement already satisfied: flake8 in c:\\users\\aleks\\anaconda3\\lib\\site-packages (7.0.0)\n",
      "Requirement already satisfied: isort in c:\\users\\aleks\\anaconda3\\lib\\site-packages (5.13.2)\n",
      "Collecting pre-commit\n",
      "  Downloading pre_commit-4.2.0-py2.py3-none-any.whl.metadata (1.3 kB)\n",
      "Requirement already satisfied: numpy>=1.26.0 in c:\\users\\aleks\\anaconda3\\lib\\site-packages (from pandas) (1.26.4)\n",
      "Requirement already satisfied: python-dateutil>=2.8.2 in c:\\users\\aleks\\anaconda3\\lib\\site-packages (from pandas) (2.9.0.post0)\n",
      "Requirement already satisfied: pytz>=2020.1 in c:\\users\\aleks\\anaconda3\\lib\\site-packages (from pandas) (2024.1)\n",
      "Requirement already satisfied: tzdata>=2022.7 in c:\\users\\aleks\\anaconda3\\lib\\site-packages (from pandas) (2023.3)\n",
      "Requirement already satisfied: click>=8.0.0 in c:\\users\\aleks\\anaconda3\\lib\\site-packages (from black) (8.1.7)\n",
      "Requirement already satisfied: mypy-extensions>=0.4.3 in c:\\users\\aleks\\anaconda3\\lib\\site-packages (from black) (1.0.0)\n",
      "Requirement already satisfied: packaging>=22.0 in c:\\users\\aleks\\anaconda3\\lib\\site-packages (from black) (24.1)\n",
      "Requirement already satisfied: pathspec>=0.9.0 in c:\\users\\aleks\\anaconda3\\lib\\site-packages (from black) (0.10.3)\n",
      "Requirement already satisfied: platformdirs>=2 in c:\\users\\aleks\\anaconda3\\lib\\site-packages (from black) (3.10.0)\n",
      "Requirement already satisfied: mccabe<0.8.0,>=0.7.0 in c:\\users\\aleks\\anaconda3\\lib\\site-packages (from flake8) (0.7.0)\n",
      "Requirement already satisfied: pycodestyle<2.12.0,>=2.11.0 in c:\\users\\aleks\\anaconda3\\lib\\site-packages (from flake8) (2.11.1)\n",
      "Requirement already satisfied: pyflakes<3.3.0,>=3.2.0 in c:\\users\\aleks\\anaconda3\\lib\\site-packages (from flake8) (3.2.0)\n",
      "Collecting cfgv>=2.0.0 (from pre-commit)\n",
      "  Downloading cfgv-3.4.0-py2.py3-none-any.whl.metadata (8.5 kB)\n",
      "Collecting identify>=1.0.0 (from pre-commit)\n",
      "  Downloading identify-2.6.12-py2.py3-none-any.whl.metadata (4.4 kB)\n",
      "Collecting nodeenv>=0.11.1 (from pre-commit)\n",
      "  Downloading nodeenv-1.9.1-py2.py3-none-any.whl.metadata (21 kB)\n",
      "Requirement already satisfied: pyyaml>=5.1 in c:\\users\\aleks\\anaconda3\\lib\\site-packages (from pre-commit) (6.0.1)\n",
      "Collecting virtualenv>=20.10.0 (from pre-commit)\n",
      "  Downloading virtualenv-20.31.2-py3-none-any.whl.metadata (4.5 kB)\n",
      "Requirement already satisfied: colorama in c:\\users\\aleks\\anaconda3\\lib\\site-packages (from click>=8.0.0->black) (0.4.6)\n",
      "Requirement already satisfied: six>=1.5 in c:\\users\\aleks\\anaconda3\\lib\\site-packages (from python-dateutil>=2.8.2->pandas) (1.16.0)\n",
      "Collecting distlib<1,>=0.3.7 (from virtualenv>=20.10.0->pre-commit)\n",
      "  Downloading distlib-0.3.9-py2.py3-none-any.whl.metadata (5.2 kB)\n",
      "Requirement already satisfied: filelock<4,>=3.12.2 in c:\\users\\aleks\\anaconda3\\lib\\site-packages (from virtualenv>=20.10.0->pre-commit) (3.13.1)\n",
      "Downloading pre_commit-4.2.0-py2.py3-none-any.whl (220 kB)\n",
      "Downloading cfgv-3.4.0-py2.py3-none-any.whl (7.2 kB)\n",
      "Downloading identify-2.6.12-py2.py3-none-any.whl (99 kB)\n",
      "Downloading nodeenv-1.9.1-py2.py3-none-any.whl (22 kB)\n",
      "Downloading virtualenv-20.31.2-py3-none-any.whl (6.1 MB)\n",
      "   ---------------------------------------- 0.0/6.1 MB ? eta -:--:--\n",
      "   -------- ------------------------------- 1.3/6.1 MB 11.2 MB/s eta 0:00:01\n",
      "   -------------------- ------------------- 3.1/6.1 MB 10.3 MB/s eta 0:00:01\n",
      "   ---------------------------------------- 6.1/6.1 MB 10.6 MB/s eta 0:00:00\n",
      "Downloading distlib-0.3.9-py2.py3-none-any.whl (468 kB)\n",
      "Installing collected packages: distlib, virtualenv, nodeenv, identify, cfgv, pre-commit\n",
      "Successfully installed cfgv-3.4.0 distlib-0.3.9 identify-2.6.12 nodeenv-1.9.1 pre-commit-4.2.0 virtualenv-20.31.2\n"
     ]
    }
   ],
   "source": [
    "!python -m venv .venv\n",
    "!pip install pandas black flake8 isort pre-commit"
   ]
  },
  {
   "cell_type": "code",
   "execution_count": 38,
   "id": "97d31d1c-4945-4233-8d07-76d5540d0d7d",
   "metadata": {},
   "outputs": [
    {
     "name": "stdout",
     "output_type": "stream",
     "text": [
      "1 - Добавить запись\n",
      "2 - Поиск по фамилии\n",
      "0 - Закрыть справочник\n",
      "Список пока пуст :(\n"
     ]
    },
    {
     "name": "stdin",
     "output_type": "stream",
     "text": [
      "Выберите функцию:  0\n"
     ]
    },
    {
     "name": "stdout",
     "output_type": "stream",
     "text": [
      "Закрытие\n"
     ]
    }
   ],
   "source": [
    "df = pd.DataFrame(columns=[\"Last Name\", \"First Name\", \"Phone Number\", \"Birth Date\"])\n",
    "\n",
    "\n",
    "def input_data():\n",
    "    last_name = input(\"Фамилия: \").strip()\n",
    "    first_name = input(\"Имя: \").strip()\n",
    "    phone = input(\"номер телефона: \").strip()\n",
    "    if not phone.isdigit() or len(phone) < 3:\n",
    "        print(\n",
    "            \"Ошибка: номер телефона должен содержать минимум 3 цифры и состоять только из цифр.\"\n",
    "        )\n",
    "        return None\n",
    "\n",
    "    print(\"Введите дату рождения (дд.мм.гг):\")\n",
    "    try:\n",
    "        day = int(input(\"День (число): \"))\n",
    "        month = int(input(\"Месяц (число): \"))\n",
    "        year = int(input(\"Год (число): \"))\n",
    "    except ValueError:\n",
    "        print(\"Ошибка: дата рождения должна состоять из чисел.\")\n",
    "        return None\n",
    "\n",
    "    birth_date = [day, month, year]\n",
    "    return {\n",
    "        \"Last Name\": last_name,\n",
    "        \"First Name\": first_name,\n",
    "        \"Phone Number\": phone,\n",
    "        \"Birth Date\": birth_date,\n",
    "    }\n",
    "\n",
    "\n",
    "def add_to_df(data, df):\n",
    "\n",
    "    new_row = pd.DataFrame([data])\n",
    "    df = pd.concat([df, new_row], ignore_index=True)\n",
    "\n",
    "    df[\"Sort Key\"] = df[\"Phone Number\"].str[:3]\n",
    "    df = df.sort_values(by=\"Sort Key\").reset_index(drop=True)\n",
    "    df = df.drop(columns=[\"Sort Key\"])\n",
    "\n",
    "    return df\n",
    "\n",
    "\n",
    "def search_by_last_name(last_name, df):\n",
    "\n",
    "    results = df[df[\"Last Name\"].str.lower() == last_name.lower()]\n",
    "    if results.empty:\n",
    "        print(f\"Person with last name '{last_name}' not found.\")\n",
    "    else:\n",
    "        print(f\"Records found for last name '{last_name}':\")\n",
    "        display(results)\n",
    "\n",
    "\n",
    "if __name__ == \"__main__\":\n",
    "    while True:\n",
    "        print(\"1 - Добавить запись\")\n",
    "        print(\"2 - Поиск по фамилии\")\n",
    "        print(\"0 - Закрыть справочник\")\n",
    "        if df.empty:\n",
    "            print(\"Список пока пуст :(\")\n",
    "        else:\n",
    "            display(df)\n",
    "\n",
    "        choice = input(\"Выберите функцию: \").strip()\n",
    "\n",
    "        if choice == \"1\":\n",
    "            data = input_data()\n",
    "            if data:\n",
    "                df = add_to_df(data, df)\n",
    "                print(\"Добавить запись\")\n",
    "\n",
    "        elif choice == \"2\":\n",
    "            last = input(\"Напишите Фамилию: \").strip()\n",
    "            search_by_last_name(last, df)\n",
    "\n",
    "        elif choice == \"3\":\n",
    "            if df.empty:\n",
    "                print(\"Список пуст :(\")\n",
    "            else:\n",
    "                display(df)\n",
    "\n",
    "        elif choice == \"0\":\n",
    "            print(\"Закрытие\")\n",
    "            break\n",
    "\n",
    "        else:\n",
    "            print(\"Попробуйте еще раз\")"
   ]
  },
  {
   "cell_type": "code",
   "execution_count": 61,
   "id": "47b092bc-61ff-4525-a77b-832ef15c4f93",
   "metadata": {},
   "outputs": [
    {
     "name": "stderr",
     "output_type": "stream",
     "text": [
      "All done! \\u2728 \\U0001f370 \\u2728\n",
      "\n",
      "1 file left unchanged.\n",
      "\n"
     ]
    }
   ],
   "source": [
    "!pip install nbqa black --quiet\n",
    "!nbqa black indi.ipynb"
   ]
  },
  {
   "cell_type": "code",
   "execution_count": null,
   "id": "de2630cd-a1fc-4225-9542-f97fdccc55ed",
   "metadata": {},
   "outputs": [],
   "source": []
  },
  {
   "cell_type": "code",
   "execution_count": null,
   "id": "f6449349-6255-42b5-a94d-caf3c3c33652",
   "metadata": {},
   "outputs": [],
   "source": []
  }
 ],
 "metadata": {
  "kernelspec": {
   "display_name": "Python [conda env:base] *",
   "language": "python",
   "name": "conda-base-py"
  },
  "language_info": {
   "codemirror_mode": {
    "name": "ipython",
    "version": 3
   },
   "file_extension": ".py",
   "mimetype": "text/x-python",
   "name": "python",
   "nbconvert_exporter": "python",
   "pygments_lexer": "ipython3",
   "version": "3.12.7"
  }
 },
 "nbformat": 4,
 "nbformat_minor": 5
}
